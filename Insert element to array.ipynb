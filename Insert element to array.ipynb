{
 "cells": [
  {
   "cell_type": "code",
   "execution_count": 7,
   "id": "4049f849",
   "metadata": {},
   "outputs": [
    {
     "name": "stdout",
     "output_type": "stream",
     "text": [
      "Please enter your favourite colour.\n",
      "red\n",
      "['red']\n",
      "Please enter your favourite colour.\n",
      "blue\n",
      "['red', 'blue']\n",
      "Please enter your favourite colour.\n",
      "green\n",
      "['red', 'blue', 'green']\n",
      "You seem like you want to add 1 more colour. Now enter it: \n",
      "yello\n",
      "Your favourite colour:\n",
      "['blue', 'green', 'red', 'yello']\n"
     ]
    }
   ],
   "source": [
    "fvcolour=[]\n",
    "for i in range (0,3):\n",
    "    print(\"Please enter your favourite colour.\")\n",
    "    colour=input()\n",
    "    fvcolour.append(colour)\n",
    "    \n",
    "    print( fvcolour )\n",
    "print(\"You seem like you want to add 1 more colour. Now enter it: \")\n",
    "\n",
    "addColour=input()\n",
    "fvcolour.append(addColour)\n",
    "fvcolour.sort()\n",
    "print(\"Your favourite colour:\") \n",
    "print( fvcolour )\n"
   ]
  },
  {
   "cell_type": "code",
   "execution_count": null,
   "id": "afeaad78",
   "metadata": {},
   "outputs": [],
   "source": []
  },
  {
   "cell_type": "code",
   "execution_count": null,
   "id": "77b86d1c",
   "metadata": {},
   "outputs": [],
   "source": []
  }
 ],
 "metadata": {
  "kernelspec": {
   "display_name": "Python 3 (ipykernel)",
   "language": "python",
   "name": "python3"
  },
  "language_info": {
   "codemirror_mode": {
    "name": "ipython",
    "version": 3
   },
   "file_extension": ".py",
   "mimetype": "text/x-python",
   "name": "python",
   "nbconvert_exporter": "python",
   "pygments_lexer": "ipython3",
   "version": "3.9.12"
  }
 },
 "nbformat": 4,
 "nbformat_minor": 5
}
