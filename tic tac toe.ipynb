{
 "cells": [
  {
   "cell_type": "code",
   "execution_count": null,
   "id": "5b1ec084",
   "metadata": {},
   "outputs": [
    {
     "name": "stdout",
     "output_type": "stream",
     "text": [
      "*|*|*\n",
      "-+-+-\n",
      "*|*|*\n",
      "-+-+-\n",
      "*|*|*\n",
      "Turn for X. Move on which space? (You could only input where did \"*\" located)\n",
      "top-L\n",
      "X|*|*\n",
      "-+-+-\n",
      "*|*|*\n",
      "-+-+-\n",
      "*|*|*\n",
      "Turn for O. Move on which space? (You could only input where did \"*\" located)\n",
      "top-M\n",
      "X|O|*\n",
      "-+-+-\n",
      "*|*|*\n",
      "-+-+-\n",
      "*|*|*\n",
      "Turn for X. Move on which space? (You could only input where did \"*\" located)\n"
     ]
    }
   ],
   "source": [
    "theBoard = {'top-L': '*', 'top-M': '*', 'top-R': '*', 'mid-L': '*', 'mid-M':\n",
    "'*', 'mid-R': '*', 'low-L': '*', 'low-M': '*', 'low-R':'*'}\n",
    "\n",
    "def printBoard(board):\n",
    "    print(board['top-L'] + '|' + board['top-M'] + '|' + board['top-R'])\n",
    "    print('-+-+-')\n",
    "    print(board['mid-L'] + '|' + board['mid-M'] + '|' + board['mid-R'])\n",
    "    print('-+-+-')\n",
    "    print(board['low-L'] + '|' + board['low-M'] + '|' + board['low-R'])\n",
    "turn = 'X'\n",
    "\n",
    "for i in range(9):\n",
    "    printBoard(theBoard)\n",
    "    print('Turn for ' + turn + '. Move on which space? (You could only input where did \"*\" located)')\n",
    "    while(True):\n",
    "        move = input()\n",
    "        if move in theBoard:\n",
    "            theBoard[move] = turn\n",
    "            if turn == 'X':\n",
    "                turn = 'O'\n",
    "                break\n",
    "        \n",
    "        \n",
    "            else:\n",
    "                turn = 'X'\n",
    "                break\n",
    "           \n",
    "        \n",
    "        else:\n",
    "            print('Undefined key.Please enter a correct key.  ')\n",
    "        \n",
    "       \n",
    "\n",
    "        \n",
    "\n",
    "   \n",
    "        \n",
    "printBoard(theBoard)"
   ]
  },
  {
   "cell_type": "code",
   "execution_count": null,
   "id": "2a833fdf",
   "metadata": {},
   "outputs": [],
   "source": [
    "#exception handling for wrong key \n",
    "#only accept key with empty value,let user to know which location would allow user input the value "
   ]
  },
  {
   "cell_type": "code",
   "execution_count": null,
   "id": "3c14a4f4",
   "metadata": {},
   "outputs": [],
   "source": [
    "\n",
    "    "
   ]
  },
  {
   "cell_type": "code",
   "execution_count": null,
   "id": "431472b7",
   "metadata": {},
   "outputs": [],
   "source": []
  },
  {
   "cell_type": "code",
   "execution_count": null,
   "id": "997c9525",
   "metadata": {},
   "outputs": [],
   "source": []
  }
 ],
 "metadata": {
  "kernelspec": {
   "display_name": "Python 3 (ipykernel)",
   "language": "python",
   "name": "python3"
  },
  "language_info": {
   "codemirror_mode": {
    "name": "ipython",
    "version": 3
   },
   "file_extension": ".py",
   "mimetype": "text/x-python",
   "name": "python",
   "nbconvert_exporter": "python",
   "pygments_lexer": "ipython3",
   "version": "3.9.12"
  }
 },
 "nbformat": 4,
 "nbformat_minor": 5
}
